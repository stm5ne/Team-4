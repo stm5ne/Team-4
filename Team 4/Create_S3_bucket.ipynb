{
  "nbformat": 4,
  "nbformat_minor": 0,
  "metadata": {
    "colab": {
      "provenance": []
    },
    "kernelspec": {
      "name": "python3",
      "display_name": "Python 3"
    },
    "language_info": {
      "name": "python"
    }
  },
  "cells": [
    {
      "cell_type": "markdown",
      "source": [
        "Create S3 bucket:"
      ],
      "metadata": {
        "id": "bAFWSkMobuhW"
      }
    },
    {
      "cell_type": "code",
      "source": [
        "# ..."
      ],
      "metadata": {
        "id": "FCJcPJ-qbwyI"
      },
      "execution_count": 1,
      "outputs": []
    }
  ]
}