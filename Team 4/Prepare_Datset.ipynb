{
  "nbformat": 4,
  "nbformat_minor": 0,
  "metadata": {
    "colab": {
      "provenance": []
    },
    "kernelspec": {
      "name": "python3",
      "display_name": "Python 3"
    },
    "language_info": {
      "name": "python"
    }
  },
  "cells": [
    {
      "cell_type": "markdown",
      "source": [
        "Prepare Dataset:"
      ],
      "metadata": {
        "id": "M2srrqWMZkKf"
      }
    },
    {
      "cell_type": "code",
      "source": [
        "# ..."
      ],
      "metadata": {
        "id": "9AdJ7FNcZn9V"
      },
      "execution_count": 1,
      "outputs": []
    }
  ]
}