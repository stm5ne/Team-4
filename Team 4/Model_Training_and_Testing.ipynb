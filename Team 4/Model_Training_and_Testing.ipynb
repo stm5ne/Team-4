{
  "nbformat": 4,
  "nbformat_minor": 0,
  "metadata": {
    "colab": {
      "provenance": []
    },
    "kernelspec": {
      "name": "python3",
      "display_name": "Python 3"
    },
    "language_info": {
      "name": "python"
    }
  },
  "cells": [
    {
      "cell_type": "markdown",
      "source": [
        "Model Training and Testing:"
      ],
      "metadata": {
        "id": "Q5Z-SSOhP9ai"
      }
    },
    {
      "cell_type": "code",
      "source": [
        "# ..."
      ],
      "metadata": {
        "id": "EGxQsYlXQBDO"
      },
      "execution_count": null,
      "outputs": []
    }
  ]
}